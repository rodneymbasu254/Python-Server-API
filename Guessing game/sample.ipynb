{
 "cells": [
  {
   "cell_type": "code",
   "execution_count": 93,
   "id": "1585e406-26ea-42b9-bf47-cf100478a1ee",
   "metadata": {},
   "outputs": [
    {
     "name": "stdout",
     "output_type": "stream",
     "text": [
      "Random color is:  Green\n"
     ]
    }
   ],
   "source": [
    "import random\n",
    "\n",
    "def GetRandomColor():\n",
    "    color = ['Blue', 'Green', 'Yellow']\n",
    "    return random.choice(color)\n",
    "\n",
    "def PrintLower(choice):\n",
    "    choice = choice.lower()\n",
    "    return choice\n",
    "    \n",
    "answer = GetRandomColor()\n",
    "print('Random color is: ', answer)"
   ]
  },
  {
   "cell_type": "code",
   "execution_count": 94,
   "id": "e0c237da-ed97-42ba-a32c-79061828ceb2",
   "metadata": {},
   "outputs": [
    {
     "name": "stdin",
     "output_type": "stream",
     "text": [
      "Enter your guess color:  green\n"
     ]
    },
    {
     "name": "stdout",
     "output_type": "stream",
     "text": [
      "green\n"
     ]
    }
   ],
   "source": [
    "def GetUserColor(color):\n",
    "    color = color.lower()\n",
    "    return color\n",
    "\n",
    "color = input(\"Enter your guess color: \")\n",
    "final_color = GetUserColor(color)\n",
    "print(final_color)"
   ]
  },
  {
   "cell_type": "code",
   "execution_count": 95,
   "id": "3290711c-93e7-4a5d-9a4e-040e6a94d921",
   "metadata": {},
   "outputs": [
    {
     "name": "stdout",
     "output_type": "stream",
     "text": [
      "green\n"
     ]
    }
   ],
   "source": [
    "modAnswer = answer\n",
    "n = PrintLower(modAnswer)\n",
    "print(n)"
   ]
  },
  {
   "cell_type": "code",
   "execution_count": 96,
   "id": "c68322db-1fca-473c-b5b5-7e627a672a93",
   "metadata": {},
   "outputs": [
    {
     "name": "stdout",
     "output_type": "stream",
     "text": [
      "true\n"
     ]
    }
   ],
   "source": [
    "if final_color == n:\n",
    "    print(\"true\")\n",
    "else:\n",
    "    print(\"false\")"
   ]
  },
  {
   "cell_type": "code",
   "execution_count": null,
   "id": "cd8f987c-0d8a-4c11-bdc3-44e4f02f6cd3",
   "metadata": {},
   "outputs": [],
   "source": []
  }
 ],
 "metadata": {
  "kernelspec": {
   "display_name": "Python 3 (ipykernel)",
   "language": "python",
   "name": "python3"
  },
  "language_info": {
   "codemirror_mode": {
    "name": "ipython",
    "version": 3
   },
   "file_extension": ".py",
   "mimetype": "text/x-python",
   "name": "python",
   "nbconvert_exporter": "python",
   "pygments_lexer": "ipython3",
   "version": "3.12.3"
  }
 },
 "nbformat": 4,
 "nbformat_minor": 5
}
